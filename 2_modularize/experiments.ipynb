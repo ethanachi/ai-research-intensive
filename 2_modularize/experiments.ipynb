{
 "cells": [
  {
   "cell_type": "code",
   "execution_count": 1,
   "id": "aa0abfab",
   "metadata": {},
   "outputs": [],
   "source": [
    "import argparse\n",
    "import random\n",
    "import string\n",
    "import os\n",
    "import yaml"
   ]
  },
  {
   "cell_type": "code",
   "execution_count": 3,
   "id": "4cbad537",
   "metadata": {},
   "outputs": [],
   "source": [
    "import data \n",
    "import logs\n",
    "import reporting \n",
    "import models\n",
    "import training"
   ]
  },
  {
   "cell_type": "code",
   "execution_count": 6,
   "id": "295bee65",
   "metadata": {},
   "outputs": [],
   "source": [
    "args = {\n",
    "    'data': {\n",
    "        'path': 'data/boston.tsv',\n",
    "        'kfold_splits': 2,\n",
    "    },\n",
    "    'model': {\n",
    "        'model_type': 'linear_regression',\n",
    "        'model_args': {\n",
    "            'fit_intercept': True,\n",
    "        }\n",
    "    }\n",
    "}"
   ]
  },
  {
   "cell_type": "code",
   "execution_count": 7,
   "id": "2b079b96",
   "metadata": {},
   "outputs": [],
   "source": [
    "dataset = data.load_dataset(args)"
   ]
  },
  {
   "cell_type": "code",
   "execution_count": 8,
   "id": "c1f5e05e",
   "metadata": {},
   "outputs": [
    {
     "data": {
      "text/plain": [
       "(          x1        x2\n",
       " 0  -1.317736  1.047235\n",
       " 1  -0.676727  1.250105\n",
       " 2   1.473124 -1.177261\n",
       " 3  -0.840095  0.147728\n",
       " 4  -0.386837 -1.015070\n",
       " 5  -2.091946 -0.990619\n",
       " 6  -0.454518 -2.234026\n",
       " 7  -0.144547  0.099455\n",
       " 8  -1.190973 -0.948421\n",
       " 9   0.710610 -1.710408\n",
       " 10 -0.020910 -0.098814\n",
       " 11  0.596092  0.841368\n",
       " 12  0.972356  0.816762\n",
       " 13 -1.326840  0.463738\n",
       " 14 -0.355472  0.835954\n",
       " 15 -0.726963  0.184103\n",
       " 16 -2.008641  0.438549\n",
       " 17 -0.534715  0.336741\n",
       " 18 -0.167156 -0.365296,\n",
       " 0    -2.485215\n",
       " 1    -1.085132\n",
       " 2     2.652516\n",
       " 3    -1.576505\n",
       " 4    -1.038477\n",
       " 5    -4.353930\n",
       " 6    -1.335014\n",
       " 7    -0.206123\n",
       " 8    -2.564815\n",
       " 9     1.147774\n",
       " 10   -0.018945\n",
       " 11    1.415351\n",
       " 12    2.169961\n",
       " 13   -2.526606\n",
       " 14   -0.525380\n",
       " 15   -1.325636\n",
       " 16   -4.001216\n",
       " 17   -1.003715\n",
       " 18   -0.477528\n",
       " Name: y, dtype: float64)"
      ]
     },
     "execution_count": 8,
     "metadata": {},
     "output_type": "execute_result"
    }
   ],
   "source": [
    "dataset"
   ]
  },
  {
   "cell_type": "code",
   "execution_count": null,
   "id": "38a606f7",
   "metadata": {},
   "outputs": [],
   "source": []
  }
 ],
 "metadata": {
  "kernelspec": {
   "display_name": "Python 3 (ipykernel)",
   "language": "python",
   "name": "python3"
  },
  "language_info": {
   "codemirror_mode": {
    "name": "ipython",
    "version": 3
   },
   "file_extension": ".py",
   "mimetype": "text/x-python",
   "name": "python",
   "nbconvert_exporter": "python",
   "pygments_lexer": "ipython3",
   "version": "3.10.4"
  }
 },
 "nbformat": 4,
 "nbformat_minor": 5
}
